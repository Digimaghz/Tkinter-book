{
 "cells": [
  {
   "cell_type": "code",
   "execution_count": null,
   "id": "e2f23800-7814-4ed9-b361-0bb0b1973fbf",
   "metadata": {},
   "outputs": [],
   "source": [
    "import sqlite3\n",
    "import tkinter as tk\n",
    "from tkinter import messagebox"
   ]
  },
  {
   "cell_type": "code",
   "execution_count": null,
   "id": "714d5960-6055-4fdb-9d96-56f019212709",
   "metadata": {},
   "outputs": [],
   "source": [
    "#رابط گرافیگی\n",
    "win= tk.Tk()\n",
    "win.title(\"bozorgan danesh\")\n",
    "tk.Label(win,text=\"عنوان\").grid(row=0,column=0)\n",
    "tk.Label(win,text=\"سال انتشار\").grid(row=1,column=0)\n",
    "tk.Label(win,text=\"نویسنده\").grid(row=0,column=2)\n",
    "tk.Label(win,text=\"ISBN\").grid(row=1,column=2)\n",
    "enrty_name=tk.Entry(win)\n",
    "enrty_name.grid(row=0,column=1)\n",
    "enrty_sale=tk.Entry(win)\n",
    "enrty_sale.grid(row=1,column=1)\n",
    "enrty_author=tk.Entry(win)\n",
    "enrty_author.grid(row=0,column=3)\n",
    "enrty_isbn=tk.Entry(win)\n",
    "enrty_isbn.grid(row=1,column=3)\n",
    "tk.Button(win,text=\"مشاهده همه\").grid(row=3,column=0)\n",
    "tk.Button(win,text=\"جستجوی کتاب\").grid(row=4,column=0)\n",
    "tk.Button(win,text=\"اضافه کردن کتاب\").grid(row=5,column=0)\n",
    "tk.Button(win,text=\"حذف کتاب\").grid(row=6,column=0)\n",
    "tk.Button(win,text=\"بستن\").grid(row=7,column=0)\n",
    "listbox=tk.Listbox(win,width=50)\n",
    "listbox.grid(row=3,column=1,columnspan=3,rowspan=5)\n",
    "win.mainloop()"
   ]
  },
  {
   "cell_type": "code",
   "execution_count": null,
   "id": "77d2b136-1336-497b-b8f4-5e7c156bd9bf",
   "metadata": {},
   "outputs": [],
   "source": []
  }
 ],
 "metadata": {
  "kernelspec": {
   "display_name": "Python 3 (ipykernel)",
   "language": "python",
   "name": "python3"
  },
  "language_info": {
   "codemirror_mode": {
    "name": "ipython",
    "version": 3
   },
   "file_extension": ".py",
   "mimetype": "text/x-python",
   "name": "python",
   "nbconvert_exporter": "python",
   "pygments_lexer": "ipython3",
   "version": "3.10.6"
  }
 },
 "nbformat": 4,
 "nbformat_minor": 5
}
